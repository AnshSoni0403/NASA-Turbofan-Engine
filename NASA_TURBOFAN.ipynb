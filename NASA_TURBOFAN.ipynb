{
  "nbformat": 4,
  "nbformat_minor": 0,
  "metadata": {
    "colab": {
      "provenance": []
    },
    "kernelspec": {
      "name": "python3",
      "display_name": "Python 3"
    },
    "language_info": {
      "name": "python"
    }
  },
  "cells": [
    {
      "cell_type": "code",
      "execution_count": null,
      "metadata": {
        "colab": {
          "base_uri": "https://localhost:8080/"
        },
        "id": "oXFbHRElyhVR",
        "outputId": "ab9808bb-e42d-4ca5-c21b-473d2b1fe7c6"
      },
      "outputs": [
        {
          "output_type": "execute_result",
          "data": {
            "text/plain": [
              "['CMaps']"
            ]
          },
          "metadata": {},
          "execution_count": 2
        }
      ],
      "source": [
        "import zipfile\n",
        "import pandas as pd\n",
        "\n",
        "# Unzipping the uploaded file\n",
        "zip_path = '/content/archive.zip'  # Update path as needed\n",
        "with zipfile.ZipFile(zip_path, 'r') as zip_ref:\n",
        "    zip_ref.extractall('/content/dataset')\n",
        "\n",
        "# List extracted files\n",
        "import os\n",
        "os.listdir('/content/dataset')\n"
      ]
    },
    {
      "cell_type": "code",
      "source": [
        "import zipfile\n",
        "import pandas as pd\n",
        "\n",
        "# Unzipping the uploaded file\n",
        "zip_path = '/content/archive.zip'  # Update path as needed\n",
        "with zipfile.ZipFile(zip_path, 'r') as zip_ref:\n",
        "    zip_ref.extractall('/content/dataset')\n",
        "\n",
        "# List extracted files\n",
        "import os\n",
        "os.listdir('/content/dataset')\n"
      ],
      "metadata": {
        "id": "ASyTVW_ey3Fs",
        "colab": {
          "base_uri": "https://localhost:8080/"
        },
        "outputId": "b524fa77-5238-420d-98ab-75137e14b111"
      },
      "execution_count": 1,
      "outputs": [
        {
          "output_type": "execute_result",
          "data": {
            "text/plain": [
              "['CMaps']"
            ]
          },
          "metadata": {},
          "execution_count": 1
        }
      ]
    },
    {
      "cell_type": "code",
      "source": [
        "# Load training data\n",
        "train_path = '/content/dataset/CMaps/test_FD001.txt'\n",
        "columns = ['unit_number', 'time_in_cycles', 'operational_setting_1',\n",
        "           'operational_setting_2', 'operational_setting_3',\n",
        "           'sensor_measurement_1', 'sensor_measurement_2', 'sensor_measurement_3',\n",
        "           # Add up to all relevant sensor columns...\n",
        "           ]\n",
        "train_data = pd.read_csv(train_path, delim_whitespace=True, header=None, names=columns)\n",
        "\n",
        "# Display data\n",
        "print(train_data.head())\n",
        "\n",
        "# Check dataset info\n",
        "print(train_data.info())\n"
      ],
      "metadata": {
        "colab": {
          "base_uri": "https://localhost:8080/"
        },
        "id": "iFBePrzHTU_b",
        "outputId": "83d31344-61a2-407d-e6f0-5f5faf99bdcc"
      },
      "execution_count": 3,
      "outputs": [
        {
          "output_type": "stream",
          "name": "stdout",
          "text": [
            "                                                                                                                     unit_number  \\\n",
            "1 1  0.0023  0.0003 100.0 518.67 643.02 1585.29 1398.21 14.62 21.61 553.90 2388.04 9050.17 1.3 47.20 521.72 2388.03      8125.55   \n",
            "  2 -0.0027 -0.0003 100.0 518.67 641.71 1588.45 1395.42 14.62 21.61 554.85 2388.01 9054.42 1.3 47.50 522.16 2388.06      8139.62   \n",
            "  3  0.0003  0.0001 100.0 518.67 642.46 1586.94 1401.34 14.62 21.61 554.11 2388.05 9056.96 1.3 47.50 521.97 2388.03      8130.10   \n",
            "  4  0.0042  0.0000 100.0 518.67 642.44 1584.12 1406.42 14.62 21.61 554.07 2388.03 9045.29 1.3 47.28 521.38 2388.05      8132.90   \n",
            "  5  0.0014  0.0000 100.0 518.67 642.51 1587.19 1401.92 14.62 21.61 554.16 2388.01 9044.55 1.3 47.31 522.15 2388.03      8129.54   \n",
            "\n",
            "                                                                                                                     time_in_cycles  \\\n",
            "1 1  0.0023  0.0003 100.0 518.67 643.02 1585.29 1398.21 14.62 21.61 553.90 2388.04 9050.17 1.3 47.20 521.72 2388.03          8.4052   \n",
            "  2 -0.0027 -0.0003 100.0 518.67 641.71 1588.45 1395.42 14.62 21.61 554.85 2388.01 9054.42 1.3 47.50 522.16 2388.06          8.3803   \n",
            "  3  0.0003  0.0001 100.0 518.67 642.46 1586.94 1401.34 14.62 21.61 554.11 2388.05 9056.96 1.3 47.50 521.97 2388.03          8.4441   \n",
            "  4  0.0042  0.0000 100.0 518.67 642.44 1584.12 1406.42 14.62 21.61 554.07 2388.03 9045.29 1.3 47.28 521.38 2388.05          8.3917   \n",
            "  5  0.0014  0.0000 100.0 518.67 642.51 1587.19 1401.92 14.62 21.61 554.16 2388.01 9044.55 1.3 47.31 522.15 2388.03          8.4031   \n",
            "\n",
            "                                                                                                                     operational_setting_1  \\\n",
            "1 1  0.0023  0.0003 100.0 518.67 643.02 1585.29 1398.21 14.62 21.61 553.90 2388.04 9050.17 1.3 47.20 521.72 2388.03                   0.03   \n",
            "  2 -0.0027 -0.0003 100.0 518.67 641.71 1588.45 1395.42 14.62 21.61 554.85 2388.01 9054.42 1.3 47.50 522.16 2388.06                   0.03   \n",
            "  3  0.0003  0.0001 100.0 518.67 642.46 1586.94 1401.34 14.62 21.61 554.11 2388.05 9056.96 1.3 47.50 521.97 2388.03                   0.03   \n",
            "  4  0.0042  0.0000 100.0 518.67 642.44 1584.12 1406.42 14.62 21.61 554.07 2388.03 9045.29 1.3 47.28 521.38 2388.05                   0.03   \n",
            "  5  0.0014  0.0000 100.0 518.67 642.51 1587.19 1401.92 14.62 21.61 554.16 2388.01 9044.55 1.3 47.31 522.15 2388.03                   0.03   \n",
            "\n",
            "                                                                                                                     operational_setting_2  \\\n",
            "1 1  0.0023  0.0003 100.0 518.67 643.02 1585.29 1398.21 14.62 21.61 553.90 2388.04 9050.17 1.3 47.20 521.72 2388.03                    392   \n",
            "  2 -0.0027 -0.0003 100.0 518.67 641.71 1588.45 1395.42 14.62 21.61 554.85 2388.01 9054.42 1.3 47.50 522.16 2388.06                    393   \n",
            "  3  0.0003  0.0001 100.0 518.67 642.46 1586.94 1401.34 14.62 21.61 554.11 2388.05 9056.96 1.3 47.50 521.97 2388.03                    393   \n",
            "  4  0.0042  0.0000 100.0 518.67 642.44 1584.12 1406.42 14.62 21.61 554.07 2388.03 9045.29 1.3 47.28 521.38 2388.05                    391   \n",
            "  5  0.0014  0.0000 100.0 518.67 642.51 1587.19 1401.92 14.62 21.61 554.16 2388.01 9044.55 1.3 47.31 522.15 2388.03                    390   \n",
            "\n",
            "                                                                                                                     operational_setting_3  \\\n",
            "1 1  0.0023  0.0003 100.0 518.67 643.02 1585.29 1398.21 14.62 21.61 553.90 2388.04 9050.17 1.3 47.20 521.72 2388.03                   2388   \n",
            "  2 -0.0027 -0.0003 100.0 518.67 641.71 1588.45 1395.42 14.62 21.61 554.85 2388.01 9054.42 1.3 47.50 522.16 2388.06                   2388   \n",
            "  3  0.0003  0.0001 100.0 518.67 642.46 1586.94 1401.34 14.62 21.61 554.11 2388.05 9056.96 1.3 47.50 521.97 2388.03                   2388   \n",
            "  4  0.0042  0.0000 100.0 518.67 642.44 1584.12 1406.42 14.62 21.61 554.07 2388.03 9045.29 1.3 47.28 521.38 2388.05                   2388   \n",
            "  5  0.0014  0.0000 100.0 518.67 642.51 1587.19 1401.92 14.62 21.61 554.16 2388.01 9044.55 1.3 47.31 522.15 2388.03                   2388   \n",
            "\n",
            "                                                                                                                     sensor_measurement_1  \\\n",
            "1 1  0.0023  0.0003 100.0 518.67 643.02 1585.29 1398.21 14.62 21.61 553.90 2388.04 9050.17 1.3 47.20 521.72 2388.03                 100.0   \n",
            "  2 -0.0027 -0.0003 100.0 518.67 641.71 1588.45 1395.42 14.62 21.61 554.85 2388.01 9054.42 1.3 47.50 522.16 2388.06                 100.0   \n",
            "  3  0.0003  0.0001 100.0 518.67 642.46 1586.94 1401.34 14.62 21.61 554.11 2388.05 9056.96 1.3 47.50 521.97 2388.03                 100.0   \n",
            "  4  0.0042  0.0000 100.0 518.67 642.44 1584.12 1406.42 14.62 21.61 554.07 2388.03 9045.29 1.3 47.28 521.38 2388.05                 100.0   \n",
            "  5  0.0014  0.0000 100.0 518.67 642.51 1587.19 1401.92 14.62 21.61 554.16 2388.01 9044.55 1.3 47.31 522.15 2388.03                 100.0   \n",
            "\n",
            "                                                                                                                     sensor_measurement_2  \\\n",
            "1 1  0.0023  0.0003 100.0 518.67 643.02 1585.29 1398.21 14.62 21.61 553.90 2388.04 9050.17 1.3 47.20 521.72 2388.03                 38.86   \n",
            "  2 -0.0027 -0.0003 100.0 518.67 641.71 1588.45 1395.42 14.62 21.61 554.85 2388.01 9054.42 1.3 47.50 522.16 2388.06                 39.02   \n",
            "  3  0.0003  0.0001 100.0 518.67 642.46 1586.94 1401.34 14.62 21.61 554.11 2388.05 9056.96 1.3 47.50 521.97 2388.03                 39.08   \n",
            "  4  0.0042  0.0000 100.0 518.67 642.44 1584.12 1406.42 14.62 21.61 554.07 2388.03 9045.29 1.3 47.28 521.38 2388.05                 39.00   \n",
            "  5  0.0014  0.0000 100.0 518.67 642.51 1587.19 1401.92 14.62 21.61 554.16 2388.01 9044.55 1.3 47.31 522.15 2388.03                 38.99   \n",
            "\n",
            "                                                                                                                     sensor_measurement_3  \n",
            "1 1  0.0023  0.0003 100.0 518.67 643.02 1585.29 1398.21 14.62 21.61 553.90 2388.04 9050.17 1.3 47.20 521.72 2388.03               23.3735  \n",
            "  2 -0.0027 -0.0003 100.0 518.67 641.71 1588.45 1395.42 14.62 21.61 554.85 2388.01 9054.42 1.3 47.50 522.16 2388.06               23.3916  \n",
            "  3  0.0003  0.0001 100.0 518.67 642.46 1586.94 1401.34 14.62 21.61 554.11 2388.05 9056.96 1.3 47.50 521.97 2388.03               23.4166  \n",
            "  4  0.0042  0.0000 100.0 518.67 642.44 1584.12 1406.42 14.62 21.61 554.07 2388.03 9045.29 1.3 47.28 521.38 2388.05               23.3737  \n",
            "  5  0.0014  0.0000 100.0 518.67 642.51 1587.19 1401.92 14.62 21.61 554.16 2388.01 9044.55 1.3 47.31 522.15 2388.03               23.4130  \n",
            "<class 'pandas.core.frame.DataFrame'>\n",
            "MultiIndex: 13096 entries, (1, 1, 0.0023, 0.0003, 100.0, 518.67, 643.02, 1585.29, 1398.21, 14.62, 21.61, 553.9, 2388.04, 9050.17, 1.3, 47.2, 521.72, 2388.03) to (100, 198, 0.0013, 0.0003, 100.0, 518.67, 642.95, 1601.62, 1424.99, 14.62, 21.61, 552.48, 2388.06, 9155.03, 1.3, 47.8, 521.07, 2388.05)\n",
            "Data columns (total 8 columns):\n",
            " #   Column                 Non-Null Count  Dtype  \n",
            "---  ------                 --------------  -----  \n",
            " 0   unit_number            13096 non-null  float64\n",
            " 1   time_in_cycles         13096 non-null  float64\n",
            " 2   operational_setting_1  13096 non-null  float64\n",
            " 3   operational_setting_2  13096 non-null  int64  \n",
            " 4   operational_setting_3  13096 non-null  int64  \n",
            " 5   sensor_measurement_1   13096 non-null  float64\n",
            " 6   sensor_measurement_2   13096 non-null  float64\n",
            " 7   sensor_measurement_3   13096 non-null  float64\n",
            "dtypes: float64(6), int64(2)\n",
            "memory usage: 1.5 MB\n",
            "None\n"
          ]
        },
        {
          "output_type": "stream",
          "name": "stderr",
          "text": [
            "<ipython-input-3-2c02503437c5>:8: FutureWarning: The 'delim_whitespace' keyword in pd.read_csv is deprecated and will be removed in a future version. Use ``sep='\\s+'`` instead\n",
            "  train_data = pd.read_csv(train_path, delim_whitespace=True, header=None, names=columns)\n"
          ]
        }
      ]
    },
    {
      "cell_type": "code",
      "source": [
        "# Compute max cycle for each unit\n",
        "max_cycle = train_data.groupby('unit_number')['time_in_cycles'].transform('max')\n",
        "\n",
        "# Calculate RUL\n",
        "train_data['RUL'] = max_cycle - train_data['time_in_cycles']\n",
        "\n",
        "# Verify the results\n",
        "print(train_data[['unit_number', 'time_in_cycles', 'RUL']].head())\n",
        "\n"
      ],
      "metadata": {
        "colab": {
          "base_uri": "https://localhost:8080/"
        },
        "id": "qWKmh9muTyJR",
        "outputId": "899b6929-90ad-46f8-8252-f177f03bd475"
      },
      "execution_count": 5,
      "outputs": [
        {
          "output_type": "stream",
          "name": "stdout",
          "text": [
            "                                                                                                                     unit_number  \\\n",
            "1 1  0.0023  0.0003 100.0 518.67 643.02 1585.29 1398.21 14.62 21.61 553.90 2388.04 9050.17 1.3 47.20 521.72 2388.03      8125.55   \n",
            "  2 -0.0027 -0.0003 100.0 518.67 641.71 1588.45 1395.42 14.62 21.61 554.85 2388.01 9054.42 1.3 47.50 522.16 2388.06      8139.62   \n",
            "  3  0.0003  0.0001 100.0 518.67 642.46 1586.94 1401.34 14.62 21.61 554.11 2388.05 9056.96 1.3 47.50 521.97 2388.03      8130.10   \n",
            "  4  0.0042  0.0000 100.0 518.67 642.44 1584.12 1406.42 14.62 21.61 554.07 2388.03 9045.29 1.3 47.28 521.38 2388.05      8132.90   \n",
            "  5  0.0014  0.0000 100.0 518.67 642.51 1587.19 1401.92 14.62 21.61 554.16 2388.01 9044.55 1.3 47.31 522.15 2388.03      8129.54   \n",
            "\n",
            "                                                                                                                     time_in_cycles  \\\n",
            "1 1  0.0023  0.0003 100.0 518.67 643.02 1585.29 1398.21 14.62 21.61 553.90 2388.04 9050.17 1.3 47.20 521.72 2388.03          8.4052   \n",
            "  2 -0.0027 -0.0003 100.0 518.67 641.71 1588.45 1395.42 14.62 21.61 554.85 2388.01 9054.42 1.3 47.50 522.16 2388.06          8.3803   \n",
            "  3  0.0003  0.0001 100.0 518.67 642.46 1586.94 1401.34 14.62 21.61 554.11 2388.05 9056.96 1.3 47.50 521.97 2388.03          8.4441   \n",
            "  4  0.0042  0.0000 100.0 518.67 642.44 1584.12 1406.42 14.62 21.61 554.07 2388.03 9045.29 1.3 47.28 521.38 2388.05          8.3917   \n",
            "  5  0.0014  0.0000 100.0 518.67 642.51 1587.19 1401.92 14.62 21.61 554.16 2388.01 9044.55 1.3 47.31 522.15 2388.03          8.4031   \n",
            "\n",
            "                                                                                                                        RUL  \n",
            "1 1  0.0023  0.0003 100.0 518.67 643.02 1585.29 1398.21 14.62 21.61 553.90 2388.04 9050.17 1.3 47.20 521.72 2388.03  0.0812  \n",
            "  2 -0.0027 -0.0003 100.0 518.67 641.71 1588.45 1395.42 14.62 21.61 554.85 2388.01 9054.42 1.3 47.50 522.16 2388.06  0.0648  \n",
            "  3  0.0003  0.0001 100.0 518.67 642.46 1586.94 1401.34 14.62 21.61 554.11 2388.05 9056.96 1.3 47.50 521.97 2388.03  0.0038  \n",
            "  4  0.0042  0.0000 100.0 518.67 642.44 1584.12 1406.42 14.62 21.61 554.07 2388.03 9045.29 1.3 47.28 521.38 2388.05  0.0961  \n",
            "  5  0.0014  0.0000 100.0 518.67 642.51 1587.19 1401.92 14.62 21.61 554.16 2388.01 9044.55 1.3 47.31 522.15 2388.03  0.0284  \n"
          ]
        }
      ]
    },
    {
      "cell_type": "code",
      "source": [
        "from sklearn.preprocessing import MinMaxScaler\n",
        "\n",
        "# Define columns to normalize\n",
        "sensor_columns = [col for col in train_data.columns if 'sensor_measurement' in col]\n",
        "\n",
        "# Initialize MinMaxScaler\n",
        "scaler = MinMaxScaler()\n",
        "\n",
        "# Normalize sensor columns\n",
        "train_data[sensor_columns] = scaler.fit_transform(train_data[sensor_columns])\n",
        "\n",
        "# Verify normalization\n",
        "print(train_data[sensor_columns].describe())\n",
        "\n"
      ],
      "metadata": {
        "colab": {
          "base_uri": "https://localhost:8080/"
        },
        "id": "tz5lgTUYVFH1",
        "outputId": "05075f20-9e3c-459e-f232-d39ad4f97bbe"
      },
      "execution_count": 8,
      "outputs": [
        {
          "output_type": "stream",
          "name": "stdout",
          "text": [
            "       sensor_measurement_1  sensor_measurement_2  sensor_measurement_3\n",
            "count               13096.0          13096.000000          13096.000000\n",
            "mean                    0.0              0.529547              0.566656\n",
            "std                     0.0              0.128801              0.119066\n",
            "min                     0.0              0.000000              0.000000\n",
            "25%                     0.0              0.445455              0.490021\n",
            "50%                     0.0              0.536364              0.571550\n",
            "75%                     0.0              0.618182              0.648549\n",
            "max                     0.0              1.000000              1.000000\n"
          ]
        }
      ]
    },
    {
      "cell_type": "code",
      "source": [
        "# Define window size for moving average\n",
        "window_size = 5\n",
        "\n",
        "# Calculate moving averages\n",
        "for col in sensor_columns:\n",
        "    train_data[f'{col}_ma'] = (\n",
        "        train_data.groupby('unit_number')[col]\n",
        "        .rolling(window_size)\n",
        "        .mean()\n",
        "        .reset_index(drop=True)\n",
        "    )\n",
        "\n",
        "\n"
      ],
      "metadata": {
        "id": "v2u5iICvVzWH"
      },
      "execution_count": 9,
      "outputs": []
    },
    {
      "cell_type": "code",
      "source": [
        "# Original sensor columns\n",
        "sensor_columns = [col for col in train_data.columns if 'sensor' in col]\n",
        "\n",
        "# Feature engineering: moving averages and rates of change\n",
        "for col in sensor_columns:\n",
        "    train_data[f'{col}_ma'] = train_data[col].rolling(window=5, min_periods=1).mean()\n",
        "    train_data[f'{col}_roc'] = train_data[col].diff().fillna(0)\n",
        "\n",
        "# Define features\n",
        "features = sensor_columns + [f'{col}_ma' for col in sensor_columns] + [f'{col}_roc' for col in sensor_columns]\n",
        "\n",
        "# Define X and y\n",
        "X = train_data[features]\n",
        "y = train_data['RUL']\n",
        "\n",
        "# Split into training and validation sets\n",
        "from sklearn.model_selection import train_test_split\n",
        "X_train, X_val, y_train, y_val = train_test_split(X, y, test_size=0.2, random_state=42)\n",
        "\n",
        "# Verify shapes\n",
        "print(f'Training data shape: {X_train.shape}, Validation data shape: {X_val.shape}')\n",
        "\n"
      ],
      "metadata": {
        "colab": {
          "base_uri": "https://localhost:8080/"
        },
        "id": "MXC4by5tV25v",
        "outputId": "8fecaf82-a431-4d22-9816-d1a8b08cd984"
      },
      "execution_count": 17,
      "outputs": [
        {
          "output_type": "stream",
          "name": "stdout",
          "text": [
            "Training data shape: (10476, 18), Validation data shape: (2620, 18)\n"
          ]
        }
      ]
    },
    {
      "cell_type": "code",
      "source": [
        "from sklearn.ensemble import RandomForestRegressor\n",
        "from sklearn.metrics import mean_squared_error, mean_absolute_error\n",
        "\n",
        "# Initialize the model\n",
        "rf_model = RandomForestRegressor(n_estimators=100, random_state=42)\n",
        "\n",
        "# Train the model\n",
        "rf_model.fit(X_train, y_train)\n",
        "\n",
        "# Predict on the validation set\n",
        "y_pred = rf_model.predict(X_val)\n",
        "\n",
        "\n"
      ],
      "metadata": {
        "colab": {
          "base_uri": "https://localhost:8080/"
        },
        "id": "WMkAGy7-Yw5T",
        "outputId": "bf720e85-4bfc-4667-d4e3-8bf145dc67eb"
      },
      "execution_count": 18,
      "outputs": [
        {
          "output_type": "stream",
          "name": "stdout",
          "text": [
            "Mean Squared Error (MSE): 0.0007299015645007627\n",
            "Mean Absolute Error (MAE): 0.021785136641221354\n"
          ]
        }
      ]
    },
    {
      "cell_type": "code",
      "source": [
        "from sklearn.ensemble import RandomForestRegressor\n",
        "import joblib\n",
        "\n",
        "# Initialize and train the RandomForestRegressor model\n",
        "rf_model = RandomForestRegressor(random_state=42, n_estimators=100, max_depth=20)\n",
        "rf_model.fit(X_train, y_train)\n",
        "\n",
        "# Save the model\n",
        "joblib.dump(rf_model, 'random_forest_model.pkl')\n",
        "\n",
        "print(\"Model saved as random_forest_model.pkl\")\n",
        "\n"
      ],
      "metadata": {
        "colab": {
          "base_uri": "https://localhost:8080/"
        },
        "id": "UpXH2yYYaxQC",
        "outputId": "7400d3ea-1ea3-430e-f3f0-37fcb96784bf"
      },
      "execution_count": 23,
      "outputs": [
        {
          "output_type": "stream",
          "name": "stdout",
          "text": [
            "Model saved as random_forest_model.pkl\n"
          ]
        }
      ]
    },
    {
      "cell_type": "markdown",
      "source": [
        "# FEATURE 1"
      ],
      "metadata": {
        "id": "w3hX5Mbkh1sv"
      }
    },
    {
      "cell_type": "markdown",
      "source": [
        "1. Predictive Maintenance System\n",
        "Goal: Build a model to predict the Remaining Useful Life (RUL) of engine components.\n",
        "\n",
        "How It Stands Out:\n",
        "Incorporate multi-parameter analysis (e.g., vibrations, temperature, and pressure).\n",
        "\n",
        "Provide not just RUL but actionable servicing recommendations.\n",
        "Features:\n",
        "\n",
        "RUL predictions with confidence intervals.\n",
        "\n",
        "Visualization of sensor trends that trigger specific maintenance alerts.\n",
        "\n",
        "AI suggestions for proactive maintenance schedules.\n"
      ],
      "metadata": {
        "id": "VLhxsKXrh-mM"
      }
    },
    {
      "cell_type": "code",
      "source": [
        "import numpy as np\n",
        "import pandas as pd\n",
        "\n",
        "# Assuming the Random Forest model has been loaded as 'model'\n",
        "def predict_rul_with_alerts(sensor_data, model):\n",
        "    \"\"\"\n",
        "    Predict Remaining Useful Life (RUL) and provide actionable maintenance recommendations.\n",
        "\n",
        "    Parameters:\n",
        "    - sensor_data (dict or DataFrame): Input sensor data (e.g., vibrations, temperature, pressure).\n",
        "      Keys or columns should match the features used to train the model.\n",
        "    - model: Trained machine learning model for RUL prediction.\n",
        "\n",
        "    Returns:\n",
        "    - dict: A dictionary containing:\n",
        "        - Predicted RUL\n",
        "        - Confidence interval (if applicable)\n",
        "        - Maintenance alerts\n",
        "        - Actionable servicing recommendations\n",
        "    \"\"\"\n",
        "    # Convert sensor_data to DataFrame if it's a dictionary\n",
        "    if isinstance(sensor_data, dict):\n",
        "        sensor_data = pd.DataFrame([sensor_data])\n",
        "\n",
        "    # Preprocessing: Ensure the data matches the model's training format\n",
        "    # (Placeholder for scaling/normalization if required)\n",
        "\n",
        "    # Predict RUL\n",
        "    predicted_rul = model.predict(sensor_data)\n",
        "\n",
        "    # Estimate confidence intervals (if model supports it)\n",
        "    # Placeholder: Adding a fixed margin as an example\n",
        "    confidence_margin = 0.1 * predicted_rul  # 10% margin\n",
        "    lower_bound = np.maximum(predicted_rul - confidence_margin, 0)\n",
        "    upper_bound = predicted_rul + confidence_margin\n",
        "\n",
        "    # Generate alerts based on sensor trends (dummy logic for illustration)\n",
        "    alerts = []\n",
        "    maintenance_tasks = []\n",
        "\n",
        "    if sensor_data['vibration'].values[0] > 0.8:  # Example threshold\n",
        "        alerts.append(\"High vibration levels detected.\")\n",
        "        maintenance_tasks.append(\"Check and repair engine components causing excessive vibration.\")\n",
        "    if sensor_data['temperature'].values[0] > 75:  # Example threshold\n",
        "        alerts.append(\"High temperature detected. Immediate inspection recommended.\")\n",
        "        maintenance_tasks.append(\"Inspect cooling system and ensure adequate lubrication.\")\n",
        "    if sensor_data['pressure'].values[0] < 20:  # Example threshold\n",
        "        alerts.append(\"Low pressure detected. Check for leaks.\")\n",
        "        maintenance_tasks.append(\"Inspect and repair pressure system. Refill or replace oil if necessary.\")\n",
        "\n",
        "    # General recommendations based on RUL\n",
        "    if predicted_rul[0] < 50:\n",
        "        maintenance_tasks.append(\"Schedule a comprehensive engine check-up soon.\")\n",
        "    elif predicted_rul[0] < 20:\n",
        "        maintenance_tasks.append(\"Critical: Immediate maintenance required to avoid breakdown.\")\n",
        "\n",
        "    # Actionable recommendations\n",
        "    recommendations = \"\"\n",
        "    if alerts:\n",
        "        recommendations = \"\\n\".join(maintenance_tasks)\n",
        "    else:\n",
        "        recommendations = \"No immediate action required. Continue monitoring regularly.\"\n",
        "\n",
        "    # Construct the output\n",
        "    result = {\n",
        "        \"Predicted RUL\": predicted_rul[0],\n",
        "        \"Confidence Interval\": (lower_bound[0], upper_bound[0]),\n",
        "        \"Alerts\": alerts,\n",
        "        \"Recommendations\": recommendations\n",
        "    }\n",
        "\n",
        "    return result\n",
        "\n",
        "# Example usage\n",
        "# sensor_input = {\n",
        "#     \"vibration\": 0.85,\n",
        "#     \"temperature\": 80,\n",
        "#     \"pressure\": 18\n",
        "# }\n",
        "# result = predict_rul_with_alerts(sensor_input, model)\n",
        "# print(result)\n"
      ],
      "metadata": {
        "id": "5WcIGGTdiAF8"
      },
      "execution_count": 25,
      "outputs": []
    },
    {
      "cell_type": "markdown",
      "source": [
        "# FEATURE 2"
      ],
      "metadata": {
        "id": "n0O5jiZLjYxD"
      }
    },
    {
      "cell_type": "markdown",
      "source": [
        " Fault Classification and Root Cause Analysis\n",
        "\n",
        "Goal: Classify types of engine faults based on sensor readings.\n",
        "How It Stands Out:\n",
        "\n",
        "Use advanced models (e.g., transformers or LSTMs) to detect complex failure patterns.\n",
        "\n",
        "Pair predictions with explainability tools (e.g., SHAP or LIME) to identify the root cause.\n",
        "\n",
        "Features:\n",
        "Categorize faults into vibration-related, temperature-related, or pressure-related issues.\n",
        "Explain model outputs in human-understandable terms.\n"
      ],
      "metadata": {
        "id": "-xt2O7uLjbTT"
      }
    },
    {
      "cell_type": "code",
      "source": [
        "import numpy as np\n",
        "import pandas as pd\n",
        "import shap  # SHAP for explainability\n",
        "\n",
        "# Assuming the advanced fault classification model has been loaded as 'fault_model'\n",
        "def classify_fault_and_analyze(sensor_data, fault_model):\n",
        "    \"\"\"\n",
        "    Classify engine faults and provide root cause analysis using explainability tools.\n",
        "\n",
        "    Parameters:\n",
        "    - sensor_data (dict or DataFrame): Input sensor data (e.g., vibrations, temperature, pressure).\n",
        "      Keys or columns should match the features used to train the model.\n",
        "    - fault_model: Trained advanced machine learning model (e.g., transformer or LSTM).\n",
        "\n",
        "    Returns:\n",
        "    - dict: A dictionary containing:\n",
        "        - Predicted fault category\n",
        "        - Model explanation (root cause analysis)\n",
        "        - Recommendations for addressing the fault\n",
        "    \"\"\"\n",
        "    # Convert sensor_data to DataFrame if it's a dictionary\n",
        "    if isinstance(sensor_data, dict):\n",
        "        sensor_data = pd.DataFrame([sensor_data])\n",
        "\n",
        "    # Preprocessing: Ensure the data matches the model's training format\n",
        "    # (Placeholder for scaling/normalization if required)\n",
        "\n",
        "    # Predict fault category\n",
        "    fault_prediction = fault_model.predict(sensor_data)\n",
        "\n",
        "    # Map fault categories (example)\n",
        "    fault_categories = {\n",
        "        0: \"No fault detected\",\n",
        "        1: \"Vibration-related issue\",\n",
        "        2: \"Temperature-related issue\",\n",
        "        3: \"Pressure-related issue\"\n",
        "    }\n",
        "    fault_category = fault_categories.get(fault_prediction[0], \"Unknown fault\")\n",
        "\n",
        "    # Explain model predictions using SHAP\n",
        "    explainer = shap.Explainer(fault_model, sensor_data)\n",
        "    shap_values = explainer(sensor_data)\n",
        "\n",
        "    # Identify root causes from SHAP values\n",
        "    feature_importances = pd.DataFrame({\n",
        "        \"Feature\": sensor_data.columns,\n",
        "        \"Importance\": shap_values.values[0]\n",
        "    }).sort_values(by=\"Importance\", ascending=False)\n",
        "\n",
        "    # Generate recommendations based on fault type and feature importance\n",
        "    recommendations = \"\"\n",
        "    if fault_category == \"Vibration-related issue\":\n",
        "        recommendations = \"Inspect rotating components and ensure proper alignment.\"\n",
        "    elif fault_category == \"Temperature-related issue\":\n",
        "        recommendations = \"Check the cooling system and lubricants. Ensure proper airflow.\"\n",
        "    elif fault_category == \"Pressure-related issue\":\n",
        "        recommendations = \"Inspect for leaks and ensure valves are functioning correctly.\"\n",
        "    else:\n",
        "        recommendations = \"No immediate action required.\"\n",
        "\n",
        "    # Construct the output\n",
        "    result = {\n",
        "        \"Fault Category\": fault_category,\n",
        "        \"Root Cause Analysis\": feature_importances.to_dict(orient=\"records\"),\n",
        "        \"Recommendations\": recommendations\n",
        "    }\n",
        "\n",
        "    return result\n",
        "\n",
        "# Example usage\n",
        "# sensor_input = {\n",
        "#     \"vibration\": 0.85,\n",
        "#     \"temperature\": 80,\n",
        "#     \"pressure\": 18\n",
        "# }\n",
        "# result = classify_fault_and_analyze(sensor_input, fault_model)\n",
        "# print(result)\n"
      ],
      "metadata": {
        "id": "yJaFkP4ljgtH"
      },
      "execution_count": 26,
      "outputs": []
    },
    {
      "cell_type": "markdown",
      "source": [
        "# Feature 3"
      ],
      "metadata": {
        "id": "qGcdhrA4kYVD"
      }
    },
    {
      "cell_type": "markdown",
      "source": [
        ". Scenario Simulation for Maintenance Optimization\n",
        "\n",
        "Goal: Simulate engine behavior under various maintenance schedules and environmental conditions.\n",
        "\n",
        "How It Stands Out:\n",
        "Integrate a simulation-based approach with real-world datasets to evaluate the impact of delayed or optimized servicing.\n",
        "\n",
        "Features:\n",
        "\n",
        "Visualize outcomes of different maintenance schedules (e.g., cost impact of servicing too early or too late).\n",
        "\n",
        "Use \"what-if\" scenarios to optimize maintenance policies for fleets.\n"
      ],
      "metadata": {
        "id": "WtNEOLGlkgTJ"
      }
    },
    {
      "cell_type": "code",
      "source": [
        "import numpy as np\n",
        "import pandas as pd\n",
        "import matplotlib.pyplot as plt\n",
        "\n",
        "# Simulation function for maintenance optimization\n",
        "def simulate_maintenance_scenarios(sensor_data, model, schedules, environmental_factors=None):\n",
        "    \"\"\"\n",
        "    Simulate engine behavior under various maintenance schedules and environmental conditions.\n",
        "\n",
        "    Parameters:\n",
        "    - sensor_data (dict or DataFrame): Baseline sensor data (e.g., vibrations, temperature, pressure).\n",
        "    - model: Trained machine learning model for RUL prediction.\n",
        "    - schedules (list of dict): Maintenance schedules to simulate. Each dict should contain:\n",
        "        - 'schedule_name': Name of the schedule (e.g., 'Early Maintenance', 'Delayed Maintenance').\n",
        "        - 'adjustments': Modifications to sensor readings or RUL (e.g., reduce vibration by 10%).\n",
        "    - environmental_factors (dict, optional): External conditions to include in the simulation\n",
        "      (e.g., {'temperature': 5} to simulate higher ambient temperature).\n",
        "\n",
        "    Returns:\n",
        "    - dict: A dictionary containing:\n",
        "        - Simulation results for each schedule\n",
        "        - Cost and RUL impact for comparison\n",
        "    \"\"\"\n",
        "    # Convert sensor_data to DataFrame if it's a dictionary\n",
        "    if isinstance(sensor_data, dict):\n",
        "        sensor_data = pd.DataFrame([sensor_data])\n",
        "\n",
        "    # Initialize results dictionary\n",
        "    simulation_results = {}\n",
        "\n",
        "    # Apply environmental factors if provided\n",
        "    if environmental_factors:\n",
        "        for factor, change in environmental_factors.items():\n",
        "            if factor in sensor_data.columns:\n",
        "                sensor_data[factor] += change\n",
        "\n",
        "    # Simulate each schedule\n",
        "    for schedule in schedules:\n",
        "        modified_data = sensor_data.copy()\n",
        "\n",
        "        # Apply adjustments from the schedule\n",
        "        for feature, adjustment in schedule.get('adjustments', {}).items():\n",
        "            if feature in modified_data.columns:\n",
        "                modified_data[feature] += adjustment\n",
        "\n",
        "        # Predict RUL with the modified data\n",
        "        predicted_rul = model.predict(modified_data)[0]\n",
        "\n",
        "        # Estimate cost impact (dummy logic: longer RUL reduces cost)\n",
        "        cost_impact = max(1000 - predicted_rul * 10, 100)  # Example cost formula\n",
        "\n",
        "        # Store results\n",
        "        simulation_results[schedule['schedule_name']] = {\n",
        "            \"Predicted RUL\": predicted_rul,\n",
        "            \"Cost Impact\": cost_impact\n",
        "        }\n",
        "\n",
        "    # Visualization: Plot RUL for each schedule\n",
        "    plt.figure(figsize=(10, 6))\n",
        "    schedules_names = [s['schedule_name'] for s in schedules]\n",
        "    rul_values = [simulation_results[s]['Predicted RUL'] for s in schedules_names]\n",
        "    plt.bar(schedules_names, rul_values, color='skyblue')\n",
        "    plt.xlabel(\"Maintenance Schedule\")\n",
        "    plt.ylabel(\"Predicted RUL\")\n",
        "    plt.title(\"RUL Prediction Across Maintenance Schedules\")\n",
        "    plt.xticks(rotation=45)\n",
        "    plt.tight_layout()\n",
        "    plt.show()\n",
        "\n",
        "    return simulation_results\n",
        "\n",
        "# Example usage\n",
        "# sensor_input = {\n",
        "#     \"vibration\": 0.7,\n",
        "#     \"temperature\": 70,\n",
        "#     \"pressure\": 25\n",
        "# }\n",
        "# schedules = [\n",
        "#     {\n",
        "#         \"schedule_name\": \"Early Maintenance\",\n",
        "#         \"adjustments\": {\"vibration\": -0.1, \"temperature\": -5}\n",
        "#     },\n",
        "#     {\n",
        "#         \"schedule_name\": \"Delayed Maintenance\",\n",
        "#         \"adjustments\": {\"vibration\": 0.2, \"temperature\": 5}\n",
        "#     }\n",
        "# ]\n",
        "# environmental_factors = {\"temperature\": 5}\n",
        "# result = simulate_maintenance_scenarios(sensor_input, model, schedules, environmental_factors)\n",
        "# print(result)\n"
      ],
      "metadata": {
        "id": "89S4qKqUkcNf"
      },
      "execution_count": 27,
      "outputs": []
    },
    {
      "cell_type": "markdown",
      "source": [
        "# Feature IV"
      ],
      "metadata": {
        "id": "us_1TQNQlsie"
      }
    },
    {
      "cell_type": "markdown",
      "source": [
        "4. Energy Efficiency Optimization\n",
        "\n",
        "Goal: Identify operating conditions that maximize fuel efficiency while minimizing engine wear.\n",
        "\n",
        "How It Stands Out:\n",
        "\n",
        "Train an AI model to predict efficiency metrics (e.g., fuel consumption) based on sensor data.\n",
        "\n",
        "Pair this with recommendations for operational changes (e.g., throttle settings, speed adjustments).\n",
        "\n",
        "Features:\n",
        "\n",
        "Highlight fuel-saving practices and their impact on maintenance.\n",
        "\n",
        "Offer live operational tips based on sensor inputs.\n"
      ],
      "metadata": {
        "id": "J1AyinKRl418"
      }
    },
    {
      "cell_type": "markdown",
      "source": [],
      "metadata": {
        "id": "udRGTo-6lz1v"
      }
    },
    {
      "cell_type": "code",
      "source": [
        "import numpy as np\n",
        "import pandas as pd\n",
        "\n",
        "# Function to optimize energy efficiency\n",
        "\n",
        "def optimize_energy_efficiency(sensor_data, efficiency_model):\n",
        "    \"\"\"\n",
        "    Optimize energy efficiency by predicting fuel efficiency metrics and providing operational tips.\n",
        "\n",
        "    Parameters:\n",
        "    - sensor_data (dict or DataFrame): Input sensor data (e.g., vibrations, temperature, pressure, throttle, speed).\n",
        "      Keys or columns should match the features used to train the model.\n",
        "    - efficiency_model: Trained machine learning model to predict fuel efficiency.\n",
        "\n",
        "    Returns:\n",
        "    - dict: A dictionary containing:\n",
        "        - Predicted fuel efficiency\n",
        "        - Recommendations for operational changes\n",
        "    \"\"\"\n",
        "\n",
        "    # Convert sensor_data to DataFrame if it's a dictionary\n",
        "    if isinstance(sensor_data, dict):\n",
        "        sensor_data = pd.DataFrame([sensor_data])\n",
        "\n",
        "    # Preprocessing: Ensure the data matches the model's training format\n",
        "    # (Placeholder for scaling/normalization if required)\n",
        "\n",
        "    # Predict fuel efficiency\n",
        "    predicted_efficiency = efficiency_model.predict(sensor_data)[0]\n",
        "\n",
        "    # Analyze sensor data and generate recommendations\n",
        "    recommendations = []\n",
        "\n",
        "    if 'throttle' in sensor_data.columns and sensor_data['throttle'].values[0] > 80:\n",
        "        recommendations.append(\"Reduce throttle to optimize fuel consumption.\")\n",
        "\n",
        "    if 'speed' in sensor_data.columns and sensor_data['speed'].values[0] > 60:\n",
        "        recommendations.append(\"Maintain speed under 60 km/h for better fuel efficiency.\")\n",
        "\n",
        "    if 'vibration' in sensor_data.columns and sensor_data['vibration'].values[0] > 0.7:\n",
        "        recommendations.append(\"Inspect engine for issues causing excessive vibration, which affects efficiency.\")\n",
        "\n",
        "    if 'temperature' in sensor_data.columns and sensor_data['temperature'].values[0] > 75:\n",
        "        recommendations.append(\"Lower engine temperature to reduce wear and improve efficiency.\")\n",
        "\n",
        "    # Add general advice\n",
        "    if not recommendations:\n",
        "        recommendations.append(\"System is operating at optimal efficiency. Continue monitoring.\")\n",
        "\n",
        "    # Construct the output\n",
        "    result = {\n",
        "        \"Predicted Fuel Efficiency\": f\"{predicted_efficiency:.2f} km/l\",\n",
        "        \"Recommendations\": recommendations\n",
        "    }\n",
        "\n",
        "    return result\n",
        "\n",
        "# Example usage\n",
        "# sensor_input = {\n",
        "#     \"vibration\": 0.6,\n",
        "#     \"temperature\": 70,\n",
        "#     \"pressure\": 25,\n",
        "#     \"throttle\": 85,\n",
        "#     \"speed\": 65\n",
        "# }\n",
        "# result = optimize_energy_efficiency(sensor_input, efficiency_model)\n",
        "# print(result)\n"
      ],
      "metadata": {
        "id": "p1WnHzEsl267"
      },
      "execution_count": 28,
      "outputs": []
    },
    {
      "cell_type": "markdown",
      "source": [
        "# Feature 5"
      ],
      "metadata": {
        "id": "fFEMjJ9DmwCZ"
      }
    },
    {
      "cell_type": "markdown",
      "source": [
        "# 5. Digital Twin System\n",
        "Goal: Create a real-time virtual replica of the engine to monitor health and predict failures.\n",
        "How It Stands Out:\n",
        "Use the dataset to simulate engine performance dynamically, updating the digital twin with real-time sensor data.\n",
        "Features:\n",
        "Visualize a dynamic model of the engine.\n",
        "Test the effects of different operational strategies on engine wear.\n"
      ],
      "metadata": {
        "id": "3nLrxCTxmte9"
      }
    },
    {
      "cell_type": "code",
      "source": [
        "import numpy as np\n",
        "import pandas as pd\n",
        "import matplotlib.pyplot as plt\n",
        "import time\n",
        "\n",
        "class DigitalTwin:\n",
        "    \"\"\"\n",
        "    Digital Twin System for real-time engine monitoring and simulation.\n",
        "\n",
        "    Attributes:\n",
        "    - model: Machine learning model for predicting engine health and failures.\n",
        "    - current_state: Dictionary storing the latest state of the engine.\n",
        "    - history: DataFrame storing historical data for visualization.\n",
        "    \"\"\"\n",
        "    def __init__(self, model):\n",
        "        self.model = model\n",
        "        self.current_state = {}\n",
        "        self.history = pd.DataFrame()\n",
        "\n",
        "    def update(self, sensor_data):\n",
        "        \"\"\"\n",
        "        Update the digital twin with new sensor data and predict engine health.\n",
        "\n",
        "        Parameters:\n",
        "        - sensor_data (dict): Real-time sensor readings.\n",
        "        \"\"\"\n",
        "        # Convert sensor_data to DataFrame\n",
        "        sensor_df = pd.DataFrame([sensor_data])\n",
        "\n",
        "        # Predict engine health (e.g., RUL or failure probabilities)\n",
        "        prediction = self.model.predict(sensor_df)\n",
        "\n",
        "        # Update current state\n",
        "        self.current_state = {**sensor_data, \"Prediction\": prediction[0]}\n",
        "\n",
        "        # Append to history\n",
        "        new_entry = pd.DataFrame(self.current_state, index=[len(self.history)])\n",
        "        self.history = pd.concat([self.history, new_entry], ignore_index=True)\n",
        "\n",
        "    def visualize(self):\n",
        "        \"\"\"\n",
        "        Visualize the dynamic state of the engine and its historical trends.\n",
        "        \"\"\"\n",
        "        if self.history.empty:\n",
        "            print(\"No data available for visualization.\")\n",
        "            return\n",
        "\n",
        "        plt.figure(figsize=(12, 6))\n",
        "\n",
        "        for column in self.history.columns:\n",
        "            if column != \"Prediction\":\n",
        "                plt.plot(self.history.index, self.history[column], label=column)\n",
        "\n",
        "        plt.plot(self.history.index, self.history[\"Prediction\"], label=\"Prediction\", linestyle=\"--\", linewidth=2)\n",
        "        plt.xlabel(\"Time Step\")\n",
        "        plt.ylabel(\"Sensor Readings / Prediction\")\n",
        "        plt.title(\"Digital Twin: Engine Performance Over Time\")\n",
        "        plt.legend()\n",
        "        plt.grid(True)\n",
        "        plt.show()\n",
        "\n",
        "    def simulate_strategy(self, adjustments, steps=10):\n",
        "        \"\"\"\n",
        "        Simulate the effects of operational changes on engine performance.\n",
        "\n",
        "        Parameters:\n",
        "        - adjustments (dict): Changes to apply to sensor data (e.g., {\"throttle\": +5}).\n",
        "        - steps (int): Number of time steps to simulate.\n",
        "        \"\"\"\n",
        "        if not self.current_state:\n",
        "            print(\"No current state available. Update the twin with sensor data first.\")\n",
        "            return\n",
        "\n",
        "        simulated_state = self.current_state.copy()\n",
        "        simulation_results = []\n",
        "\n",
        "        for step in range(steps):\n",
        "            # Apply adjustments\n",
        "            for feature, change in adjustments.items():\n",
        "                if feature in simulated_state:\n",
        "                    simulated_state[feature] += change\n",
        "\n",
        "            # Predict with adjusted state\n",
        "            sensor_df = pd.DataFrame([simulated_state])\n",
        "            prediction = self.model.predict(sensor_df)[0]\n",
        "            simulated_state[\"Prediction\"] = prediction\n",
        "\n",
        "            # Store results\n",
        "            simulation_results.append(simulated_state.copy())\n",
        "\n",
        "        # Convert to DataFrame for visualization\n",
        "        simulation_df = pd.DataFrame(simulation_results)\n",
        "\n",
        "        plt.figure(figsize=(12, 6))\n",
        "        for column in simulation_df.columns:\n",
        "            if column != \"Prediction\":\n",
        "                plt.plot(simulation_df.index, simulation_df[column], label=column)\n",
        "\n",
        "        plt.plot(simulation_df.index, simulation_df[\"Prediction\"], label=\"Prediction\", linestyle=\"--\", linewidth=2)\n",
        "        plt.xlabel(\"Simulation Step\")\n",
        "        plt.ylabel(\"Sensor Readings / Prediction\")\n",
        "        plt.title(\"Simulation: Effects of Operational Changes\")\n",
        "        plt.legend()\n",
        "        plt.grid(True)\n",
        "        plt.show()\n",
        "\n",
        "        return simulation_df\n",
        "\n",
        "# Example usage\n",
        "# model = load_your_model()  # Placeholder for model loading\n",
        "# digital_twin = DigitalTwin(model)\n",
        "#\n",
        "# # Update digital twin with real-time data\n",
        "# sensor_input = {\n",
        "#     \"vibration\": 0.6,\n",
        "#     \"temperature\": 70,\n",
        "#     \"pressure\": 25,\n",
        "#     \"throttle\": 80,\n",
        "#     \"speed\": 60\n",
        "# }\n",
        "# digital_twin.update(sensor_input)\n",
        "#\n",
        "# # Visualize the current state and history\n",
        "# digital_twin.visualize()\n",
        "#\n",
        "# # Simulate a strategy\n",
        "# adjustments = {\"throttle\": -5, \"speed\": +10}\n",
        "# simulation_results = digital_twin.simulate_strategy(adjustments, steps=10)\n"
      ],
      "metadata": {
        "id": "aNTqTld5m0lE"
      },
      "execution_count": 29,
      "outputs": []
    }
  ]
}